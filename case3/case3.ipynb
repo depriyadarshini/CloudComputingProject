{
 "cells": [
  {
   "cell_type": "code",
   "execution_count": 1,
   "metadata": {},
   "outputs": [],
   "source": [
    "from IPython.core.interactiveshell import InteractiveShell\n",
    "InteractiveShell.ast_node_interactivity = \"all\""
   ]
  },
  {
   "cell_type": "code",
   "execution_count": 2,
   "metadata": {},
   "outputs": [
    {
     "name": "stdout",
     "output_type": "stream",
     "text": [
      "Collecting gcsfs\n",
      "Requirement already satisfied: decorator in /usr/local/envs/py3env/lib/python3.5/site-packages (from gcsfs) (4.3.0)\n",
      "Requirement already satisfied: google-auth>=1.2 in /usr/local/envs/py3env/lib/python3.5/site-packages (from gcsfs) (1.6.2)\n",
      "Requirement already satisfied: requests in /usr/local/envs/py3env/lib/python3.5/site-packages (from gcsfs) (2.18.4)\n",
      "Requirement already satisfied: google-auth-oauthlib in /usr/local/envs/py3env/lib/python3.5/site-packages (from gcsfs) (0.1.0)\n",
      "Requirement already satisfied: rsa>=3.1.4 in /usr/local/envs/py3env/lib/python3.5/site-packages (from google-auth>=1.2->gcsfs) (3.4.2)\n",
      "Requirement already satisfied: cachetools>=2.0.0 in /usr/local/envs/py3env/lib/python3.5/site-packages (from google-auth>=1.2->gcsfs) (2.1.0)\n",
      "Requirement already satisfied: pyasn1-modules>=0.2.1 in /usr/local/envs/py3env/lib/python3.5/site-packages (from google-auth>=1.2->gcsfs) (0.2.2)\n",
      "Requirement already satisfied: six>=1.9.0 in /usr/local/envs/py3env/lib/python3.5/site-packages (from google-auth>=1.2->gcsfs) (1.10.0)\n",
      "Requirement already satisfied: chardet<3.1.0,>=3.0.2 in /usr/local/envs/py3env/lib/python3.5/site-packages (from requests->gcsfs) (3.0.4)\n",
      "Requirement already satisfied: idna<2.7,>=2.5 in /usr/local/envs/py3env/lib/python3.5/site-packages (from requests->gcsfs) (2.6)\n",
      "Requirement already satisfied: urllib3<1.23,>=1.21.1 in /usr/local/envs/py3env/lib/python3.5/site-packages (from requests->gcsfs) (1.22)\n",
      "Requirement already satisfied: certifi>=2017.4.17 in /usr/local/envs/py3env/lib/python3.5/site-packages (from requests->gcsfs) (2018.8.24)\n",
      "Requirement already satisfied: requests-oauthlib>=0.7.0 in /usr/local/envs/py3env/lib/python3.5/site-packages (from google-auth-oauthlib->gcsfs) (0.8.0)\n",
      "Requirement already satisfied: pyasn1>=0.1.3 in /usr/local/envs/py3env/lib/python3.5/site-packages (from rsa>=3.1.4->google-auth>=1.2->gcsfs) (0.4.4)\n",
      "Requirement already satisfied: oauthlib>=0.6.2 in /usr/local/envs/py3env/lib/python3.5/site-packages (from requests-oauthlib>=0.7.0->google-auth-oauthlib->gcsfs) (2.1.0)\n",
      "Installing collected packages: gcsfs\n",
      "Successfully installed gcsfs-0.2.1\n"
     ]
    },
    {
     "name": "stderr",
     "output_type": "stream",
     "text": [
      "/usr/local/envs/py3env/lib/python3.5/site-packages/h5py/__init__.py:36: FutureWarning: Conversion of the second argument of issubdtype from `float` to `np.floating` is deprecated. In future, it will be treated as `np.float64 == np.dtype(float).type`.\n",
      "  from ._conv import register_converters as _register_converters\n"
     ]
    }
   ],
   "source": [
    "!pip install gcsfs\n",
    "\n",
    "import pandas as pd\n",
    "import numpy as np\n",
    "import matplotlib.pyplot as plt\n",
    "%matplotlib inline\n",
    "import glob\n",
    "import os\n",
    "import gcsfs\n",
    "import tensorflow as tf\n",
    "from tensorflow.python.lib.io import file_io"
   ]
  },
  {
   "cell_type": "markdown",
   "metadata": {},
   "source": []
  },
  {
   "cell_type": "markdown",
   "metadata": {},
   "source": []
  },
  {
   "cell_type": "code",
   "execution_count": 3,
   "metadata": {},
   "outputs": [
    {
     "name": "stdout",
     "output_type": "stream",
     "text": [
      "100\n",
      "200\n"
     ]
    }
   ],
   "source": [
    "# path =r'C:/Users/depri/Desktop/OPS813 cloud computing/Project/case1/amex-nyse-nasdaq-stock-histories/fh_20190217/full_history'\n",
    "fs = gcsfs.GCSFileSystem(project='ornate-factor-231603')\n",
    "# allFiles = glob.glob(path + \"/*.csv\")\n",
    "allFiles = fs.ls('case2data/full_history')\n",
    "# allFiles\n",
    "alldf = []\n",
    "i=0\n",
    "\n",
    "for file_ in allFiles:\n",
    "    i+=1\n",
    "    if i%100 == 0:\n",
    "      print(i)\n",
    "#     if i==400:\n",
    "#         break\n",
    "    with fs.open(file_) as f:\n",
    "      dftemp = pd.read_csv(f,index_col=None, header=0)\n",
    "#     dftemp = pd.read_csv(file_,index_col=None, header=0)\n",
    "#     dftemp = df_npd.compute()\n",
    "    #Figure out a way to invert the data frame\n",
    "    dftemp = dftemp[::-1]\n",
    "    #Calculating the 200 day moving average before merging all data\n",
    "    dftemp[\"200d\"] = np.round(dftemp[\"adjclose\"].rolling(window = 200).mean(), 2)\n",
    "    #Calculating the 50 day moving average before merging all data\n",
    "    dftemp[\"50d\"] = np.round(dftemp[\"adjclose\"].rolling(window = 50).mean(), 2)\n",
    "    #Adding a new colmn stock name to identify the stock in question\n",
    "    dftemp[\"StockName\"]=os.path.basename(file_).split('.')[0]\n",
    "    alldf.append(dftemp)\n",
    "\n",
    "df = pd.concat(alldf, axis = 0, ignore_index = True)\n",
    "df.columns = [\"Date\", \"Volume\",\"Open\", \"Close\", \"High\", \"Low\", \"AdjustedClose\",\"200d\",\"50d\",\"StockName\"]\n",
    "# print(df) "
   ]
  },
  {
   "cell_type": "code",
   "execution_count": 5,
   "metadata": {},
   "outputs": [],
   "source": [
    "#Finding stocks in the last month with golden cross and visualizing it\n",
    "allgoldencrossings = []\n",
    "alldeathcrossings = []\n",
    "for key, grp in df.groupby('StockName'): # handling data by each stock.\n",
    "  previous_50 = grp['50d'].shift(1)             # shifting data by 1.\n",
    "  previous_200 = grp['200d'].shift(1)           # shifting data by 1.\n",
    "  deathcrossing = ((grp['50d'] <= grp['200d']) & (previous_50 > previous_200))\n",
    "  goldencrossing = ((grp['50d'] >= grp['200d']) & (previous_50 < previous_200))\n",
    "  allgoldencrossings.append(goldencrossing)   # Comparing current value of 50d and 200d and comparing previous value of 50d and 200d to see if the golden cross is achieved.\n",
    "  # figuring out whether I am having golden cross or not.\n",
    "  alldeathcrossings.append(deathcrossing)\n",
    "df['GoldenCross'] = pd.concat(allgoldencrossings)\n",
    "df['DeathCross'] = pd.concat(alldeathcrossings)\n",
    "df['WeekChange'] = df['AdjustedClose'].pct_change(periods=7)*100\n",
    "df['TwoWeekChange'] = df['AdjustedClose'].pct_change(periods=14)*100\n",
    "df['ThreeWeekChange'] = df['AdjustedClose'].pct_change(periods=21)*100\n",
    "df['MonthChange'] = df['AdjustedClose'].pct_change(periods=30)*100\n",
    "df['TwoMonthChange'] = df['AdjustedClose'].pct_change(periods=60)*100\n",
    "df['ThreeMonthChange'] = df['AdjustedClose'].pct_change(periods=90)*100\n",
    "df['FourMonthChange'] = df['AdjustedClose'].pct_change(periods=120)*100\n",
    "df['FiveMonthChange'] = df['AdjustedClose'].pct_change(periods=150)*100\n",
    "df['SixMonthChange'] = df['AdjustedClose'].pct_change(periods=180)*100\n",
    "\n",
    "# Count of golden crosses\n",
    "goldenCount = df[df.GoldenCross].GoldenCross.count()\n",
    "\n",
    "# Count of death crosses\n",
    "deathCount = df[df.DeathCross].DeathCross.count()"
   ]
  },
  {
   "cell_type": "code",
   "execution_count": 19,
   "metadata": {},
   "outputs": [
    {
     "name": "stdout",
     "output_type": "stream",
     "text": [
      "Percentage of Golden Cross with 1% increase 54.790660225442835\n",
      "Percentage of Death Cross with 1% decrease 71.6923076923077\n"
     ]
    }
   ],
   "source": [
    "# Percentage of Golden Cross and Death Cross with 1% change\n",
    "postiveOnePercentChange = (df[df.GoldenCross & (df.WeekChange > 1)].GoldenCross.count()/goldenCount)*100\n",
    "negativeOnePercentChange = (df[df.DeathCross & (df.WeekChange < 1)].DeathCross.count()/deathCount)*100\n",
    "print(\"Percentage of Golden Cross with 1% increase \" + str(postiveOnePercentChange))\n",
    "print(\"Percentage of Death Cross with 1% decrease \" + str(negativeOnePercentChange))"
   ]
  },
  {
   "cell_type": "code",
   "execution_count": 11,
   "metadata": {},
   "outputs": [
    {
     "name": "stdout",
     "output_type": "stream",
     "text": [
      "Percentage of Golden Cross with 2% increase 58.212560386473434\n",
      "Percentage of Death Cross with 2% decrease 78.03846153846153\n"
     ]
    }
   ],
   "source": [
    "# Percentage of Golden Cross and Death Cross with 2% change\n",
    "postiveTwoPercentChange = (df[df.GoldenCross & (df.TwoWeekChange > 2)].GoldenCross.count()/goldenCount)*100\n",
    "negativeTwoPercentChange = (df[df.DeathCross & (df.TwoWeekChange < 2)].DeathCross.count()/deathCount)*100\n",
    "print(\"Percentage of Golden Cross with 2% increase \" + str(postiveTwoPercentChange))\n",
    "print(\"Percentage of Death Cross with 2% decrease \" + str(negativeTwoPercentChange))"
   ]
  },
  {
   "cell_type": "code",
   "execution_count": 12,
   "metadata": {},
   "outputs": [
    {
     "name": "stdout",
     "output_type": "stream",
     "text": [
      "Percentage of Golden Cross with 3% increase 61.63446054750402\n",
      "Percentage of Death Cross with 3% decrease 83.92307692307692\n"
     ]
    }
   ],
   "source": [
    "# Percentage of Golden Cross and Death Cross with 3% change\n",
    "postiveThreePercentChange = (df[df.GoldenCross & (df.ThreeWeekChange > 3)].GoldenCross.count()/goldenCount)*100\n",
    "negativeThreePercentChange = (df[df.DeathCross & (df.ThreeWeekChange < 3)].DeathCross.count()/deathCount)*100\n",
    "print(\"Percentage of Golden Cross with 3% increase \" + str(postiveThreePercentChange))\n",
    "print(\"Percentage of Death Cross with 3% decrease \" + str(negativeThreePercentChange))"
   ]
  },
  {
   "cell_type": "code",
   "execution_count": 13,
   "metadata": {},
   "outputs": [
    {
     "name": "stdout",
     "output_type": "stream",
     "text": [
      "Percentage of Golden Cross with 4% increase 67.31078904991948\n",
      "Percentage of Death Cross with 4% decrease 89.8076923076923\n"
     ]
    }
   ],
   "source": [
    "# Percentage of Golden Cross and Death Cross with 4% change\n",
    "postiveFourPercentChange = (df[df.GoldenCross & (df.MonthChange > 4)].GoldenCross.count()/goldenCount)*100\n",
    "negativeFourPercentChange = (df[df.DeathCross & (df.MonthChange < 4)].DeathCross.count()/deathCount)*100\n",
    "print(\"Percentage of Golden Cross with 4% increase \" + str(postiveFourPercentChange))\n",
    "print(\"Percentage of Death Cross with 4% decrease \" + str(negativeFourPercentChange))"
   ]
  },
  {
   "cell_type": "code",
   "execution_count": 14,
   "metadata": {},
   "outputs": [
    {
     "name": "stdout",
     "output_type": "stream",
     "text": [
      "Percentage of Golden Cross with 5% increase 76.61030595813205\n",
      "Percentage of Death Cross with 5% decrease 95.92307692307692\n"
     ]
    }
   ],
   "source": [
    "# Percentage of Golden Cross and Death Cross with 5% change\n",
    "postiveFivePercentChange = (df[df.GoldenCross & (df.TwoMonthChange > 5)].GoldenCross.count()/goldenCount)*100\n",
    "negativeFivePercentChange = (df[df.DeathCross & (df.TwoMonthChange < 5)].DeathCross.count()/deathCount)*100\n",
    "print(\"Percentage of Golden Cross with 5% increase \" + str(postiveFivePercentChange))\n",
    "print(\"Percentage of Death Cross with 5% decrease \" + str(negativeFivePercentChange))"
   ]
  },
  {
   "cell_type": "code",
   "execution_count": 15,
   "metadata": {},
   "outputs": [
    {
     "name": "stdout",
     "output_type": "stream",
     "text": [
      "Percentage of Golden Cross with 10% increase 50.48309178743962\n",
      "Percentage of Death Cross with 10% decrease 95.8076923076923\n"
     ]
    }
   ],
   "source": [
    "# Percentage of Golden Cross and Death Cross with 10% change\n",
    "postiveTenPercentChange = (df[df.GoldenCross & (df.ThreeMonthChange > 10)].GoldenCross.count()/goldenCount)*100\n",
    "negativeTenPercentChange = (df[df.DeathCross & (df.ThreeMonthChange < 10)].DeathCross.count()/deathCount)*100\n",
    "print(\"Percentage of Golden Cross with 10% increase \" + str(postiveTenPercentChange))\n",
    "print(\"Percentage of Death Cross with 10% decrease \" + str(negativeTenPercentChange))"
   ]
  },
  {
   "cell_type": "code",
   "execution_count": 16,
   "metadata": {},
   "outputs": [
    {
     "name": "stdout",
     "output_type": "stream",
     "text": [
      "Percentage of Golden Cross with 15% increase 29.790660225442835\n",
      "Percentage of Death Cross with 15% decrease 96.57692307692308\n"
     ]
    }
   ],
   "source": [
    "# Percentage of Golden Cross and Death Cross with 15% change\n",
    "postiveFifPercentChange = (df[df.GoldenCross & (df.FourMonthChange > 15)].GoldenCross.count()/goldenCount)*100\n",
    "negativeFifPercentChange = (df[df.DeathCross & (df.FourMonthChange < 15)].DeathCross.count()/deathCount)*100\n",
    "print(\"Percentage of Golden Cross with 15% increase \" + str(postiveFifPercentChange))\n",
    "print(\"Percentage of Death Cross with 15% decrease \" + str(negativeFifPercentChange))"
   ]
  },
  {
   "cell_type": "code",
   "execution_count": 17,
   "metadata": {},
   "outputs": [
    {
     "name": "stdout",
     "output_type": "stream",
     "text": [
      "Percentage of Golden Cross with 20% increase 16.022544283413847\n",
      "Percentage of Death Cross with 20% decrease 95.61538461538461\n"
     ]
    }
   ],
   "source": [
    "# Percentage of Golden Cross and Death Cross with 20% change\n",
    "postiveTwenPercentChange = (df[df.GoldenCross & (df.FiveMonthChange > 20)].GoldenCross.count()/goldenCount)*100\n",
    "negativeTwenPercentChange = (df[df.DeathCross & (df.FiveMonthChange < 20)].DeathCross.count()/deathCount)*100\n",
    "print(\"Percentage of Golden Cross with 20% increase \" + str(postiveTwenPercentChange))\n",
    "print(\"Percentage of Death Cross with 20% decrease \" + str(negativeTwenPercentChange))"
   ]
  }
 ],
 "metadata": {
  "kernelspec": {
   "display_name": "Python 3",
   "language": "python",
   "name": "python3"
  },
  "language_info": {
   "codemirror_mode": {
    "name": "ipython",
    "version": 3
   },
   "file_extension": ".py",
   "mimetype": "text/x-python",
   "name": "python",
   "nbconvert_exporter": "python",
   "pygments_lexer": "ipython3",
   "version": "3.5.6"
  }
 },
 "nbformat": 4,
 "nbformat_minor": 2
}
